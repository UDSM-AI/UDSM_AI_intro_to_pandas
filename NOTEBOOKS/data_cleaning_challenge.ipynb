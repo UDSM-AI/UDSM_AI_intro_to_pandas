{
 "cells": [
  {
   "attachments": {},
   "cell_type": "markdown",
   "metadata": {},
   "source": [
    "# Data Cleaning Challenge\n",
    "\n",
    "### Dataset Description:\n",
    "\n",
    "The dataset consists of the following columns:\n",
    "\n",
    "- Patient ID: Unique identifier for each patient.\n",
    "- Admission Date: Date when the patient was admitted.\n",
    "- Discharge Date: Date when the patient was discharged.\n",
    "- Primary Diagnosis: Primary diagnosis for the patient's condition.\n",
    "- Comorbidities: Pre-existing comorbidities of the patient.\n",
    "- Medication History: History of medications taken by the patient.\n",
    "- Length of Stay: Duration of the patient's stay in the hospital.\n",
    "- Readmission Status: Indicates whether the patient was readmitted.\n",
    "- Age: Age of the patient.\n",
    "- Gender: Gender of the patient.\n",
    "\n",
    "### Data Cleaning Tasks:\n",
    "1. Handle missing values in the dataset appropriately.\n",
    "2. Remove any inconsistent or incorrect data entries.\n",
    "3. Standardize the format of the Primary Diagnosis column (e.g., capitalize the first letter, remove leading/trailing spaces).\n",
    "4. Remove any duplicates in the dataset.\n",
    "5. Convert empty values in the Medication History column to NaN.\n",
    "6. Ensure that all date-related columns (Admission Date, Discharge Date) are in the correct date format.\n",
    "7. Validate and correct any inconsistent or invalid values in the Age column.\n",
    "8. Hint: lenghth of stay can never be a negative value\n"
   ]
  },
  {
   "cell_type": "markdown",
   "metadata": {},
   "source": []
  },
  {
   "attachments": {},
   "cell_type": "markdown",
   "metadata": {},
   "source": [
    "## How the dataset is created\n",
    "\n",
    "The code provided generates a dataset with 100 patients. It randomly assigns values to different columns including Patient ID, Admission Date, Discharge Date, Primary Diagnosis, Comorbidities, Medication History, Length of Stay, Readmission Status, Age, and Gender.\n",
    "\n",
    "The resulting DataFrame df is then created using the generated data.\n"
   ]
  },
  {
   "attachments": {},
   "cell_type": "markdown",
   "metadata": {},
   "source": [
    "## How to submit your work\n",
    "\n",
    "only three files are required\n",
    "1. The generated original file that you used\n",
    "2. Script with codes used to clean your data\n",
    "3. The final cleaned dataset"
   ]
  }
 ],
 "metadata": {
  "kernelspec": {
   "display_name": "Python 3.9.2 64-bit",
   "language": "python",
   "name": "python3"
  },
  "language_info": {
   "name": "python",
   "version": "3.9.2"
  },
  "orig_nbformat": 4,
  "vscode": {
   "interpreter": {
    "hash": "916dbcbb3f70747c44a77c7bcd40155683ae19c65e1c03b4aa3499c5328201f1"
   }
  }
 },
 "nbformat": 4,
 "nbformat_minor": 2
}
